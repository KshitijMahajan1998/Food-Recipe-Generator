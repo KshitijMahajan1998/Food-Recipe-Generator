{
 "cells": [
  {
   "cell_type": "code",
   "execution_count": null,
   "id": "f7fb7175",
   "metadata": {},
   "outputs": [],
   "source": [
    "import pandas as pd\n",
    "import requests\n",
    "from PIL import Image\n",
    "import shutil\n",
    "import urllib"
   ]
  },
  {
   "cell_type": "code",
   "execution_count": null,
   "id": "79b03d52",
   "metadata": {},
   "outputs": [],
   "source": [
    "data_frame = pd.read_csv(\"/Users/kshitijmahajan/Desktop/assignment_4/archive/recipes.csv\") "
   ]
  },
  {
   "cell_type": "code",
   "execution_count": null,
   "id": "8015452e",
   "metadata": {},
   "outputs": [],
   "source": [
    "data_frame=data_frame.astype(\"string\")\n"
   ]
  },
  {
   "cell_type": "code",
   "execution_count": null,
   "id": "9cfc1bff",
   "metadata": {},
   "outputs": [],
   "source": [
    "data_frame.info()"
   ]
  },
  {
   "cell_type": "code",
   "execution_count": null,
   "id": "f2849443",
   "metadata": {},
   "outputs": [],
   "source": [
    "\n",
    "def number1(x):\n",
    "    if \"https://\" in x:\n",
    "        data\n"
   ]
  },
  {
   "cell_type": "code",
   "execution_count": null,
   "id": "9ed56df8",
   "metadata": {},
   "outputs": [],
   "source": [
    "data_frame1=data_frame[data_frame[\"Images\"]!='character(0)']"
   ]
  },
  {
   "cell_type": "code",
   "execution_count": null,
   "id": "8687c0eb",
   "metadata": {},
   "outputs": [],
   "source": [
    "data_frame1.info()"
   ]
  },
  {
   "cell_type": "code",
   "execution_count": null,
   "id": "3b7bf493",
   "metadata": {},
   "outputs": [],
   "source": [
    "data_frame1=data_frame1.drop(columns=['RecipeYield', 'RecipeServings','CookTime','ReviewCount','AggregatedRating'])\n"
   ]
  },
  {
   "cell_type": "code",
   "execution_count": null,
   "id": "0343654a",
   "metadata": {},
   "outputs": [],
   "source": [
    "data_frame1.info()"
   ]
  },
  {
   "cell_type": "code",
   "execution_count": null,
   "id": "6986897c",
   "metadata": {},
   "outputs": [],
   "source": [
    "train_df = data_frame1.sample(frac = 0.7)\n"
   ]
  },
  {
   "cell_type": "code",
   "execution_count": null,
   "id": "8a7d0791",
   "metadata": {},
   "outputs": [],
   "source": [
    "test_df=data_frame1.drop(train_df.index)"
   ]
  },
  {
   "cell_type": "code",
   "execution_count": null,
   "id": "67a359bf",
   "metadata": {},
   "outputs": [],
   "source": [
    "train_df.info()"
   ]
  },
  {
   "cell_type": "code",
   "execution_count": null,
   "id": "3f392e28",
   "metadata": {},
   "outputs": [],
   "source": [
    "test_df.info()\n"
   ]
  },
  {
   "cell_type": "code",
   "execution_count": null,
   "id": "7dc568ef",
   "metadata": {},
   "outputs": [],
   "source": [
    "train_urls=train_df[\"Images\"].tolist()\n",
    "train_urls"
   ]
  },
  {
   "cell_type": "code",
   "execution_count": null,
   "id": "127c6a30",
   "metadata": {},
   "outputs": [],
   "source": [
    "def get_urls(x):\n",
    "    links = [\"https\"+str(link) for link in x.split(\"https\")][1:]\n",
    "    k=links[0].split(\".jpg\")\n",
    "    new=k[0]+\".jpg\"\n",
    "    \n",
    "    return new"
   ]
  },
  {
   "cell_type": "code",
   "execution_count": null,
   "id": "610f2083",
   "metadata": {},
   "outputs": [],
   "source": [
    "final_train_urls=[]\n",
    "for i in range(len(train_urls)):\n",
    "    final_train_urls.append(get_urls(train_urls[i]))\n",
    "\n"
   ]
  },
  {
   "cell_type": "code",
   "execution_count": null,
   "id": "93925afe",
   "metadata": {},
   "outputs": [],
   "source": [
    "for i in range(len(final_train_urls)):\n",
    "               \n",
    "    img_url = final_train_urls[i]\n",
    "    response = requests.get(img_url)\n",
    "    if response.status_code:\n",
    "        fp = open('/Users/kshitijmahajan/Desktop/train_new/'+str(i)+'.jpg', 'wb')\n",
    "        fp.write(response.content)\n",
    "        fp.close()"
   ]
  },
  {
   "cell_type": "code",
   "execution_count": null,
   "id": "386fca67",
   "metadata": {},
   "outputs": [],
   "source": [
    "test_urls=test_df[\"Images\"].tolist()\n",
    "test_urls"
   ]
  },
  {
   "cell_type": "code",
   "execution_count": null,
   "id": "5cabc771",
   "metadata": {},
   "outputs": [],
   "source": [
    "def get_urls(x):\n",
    "    links = [\"https\"+str(link) for link in x.split(\"https\")][1:]\n",
    "    k=links[0].split(\".jpg\")\n",
    "    new=k[0]+\".jpg\"\n",
    "    \n",
    "    return new"
   ]
  },
  {
   "cell_type": "code",
   "execution_count": null,
   "id": "638b9928",
   "metadata": {},
   "outputs": [],
   "source": [
    "final_test_urls=[]\n",
    "for i in range(len(test_urls)):\n",
    "    final_test_urls.append(get_urls(test_urls[i]))\n"
   ]
  },
  {
   "cell_type": "code",
   "execution_count": null,
   "id": "97387915",
   "metadata": {},
   "outputs": [],
   "source": [
    "for i in range(final_test_urls):\n",
    "               \n",
    "    img_url = final_test_urls[i]\n",
    "    response = requests.get(img_url)\n",
    "    if response.status_code:\n",
    "        fp = open('/Users/kshitijmahajan/Desktop/test_new/'+str(i)+'.jpg', 'wb')\n",
    "        fp.write(response.content)\n",
    "        fp.close()"
   ]
  },
  {
   "cell_type": "code",
   "execution_count": null,
   "id": "58f30da1",
   "metadata": {},
   "outputs": [],
   "source": [
    "train_df.to_csv(\"trainDF.csv\",index=False)"
   ]
  },
  {
   "cell_type": "code",
   "execution_count": null,
   "id": "98dad70f",
   "metadata": {},
   "outputs": [],
   "source": [
    "test_df.to_csv(\"testDF.csv\",index=False)"
   ]
  },
  {
   "cell_type": "code",
   "execution_count": null,
   "id": "128f8095",
   "metadata": {},
   "outputs": [],
   "source": []
  }
 ],
 "metadata": {
  "kernelspec": {
   "display_name": "Python 3 (ipykernel)",
   "language": "python",
   "name": "python3"
  },
  "language_info": {
   "codemirror_mode": {
    "name": "ipython",
    "version": 3
   },
   "file_extension": ".py",
   "mimetype": "text/x-python",
   "name": "python",
   "nbconvert_exporter": "python",
   "pygments_lexer": "ipython3",
   "version": "3.7.15"
  }
 },
 "nbformat": 4,
 "nbformat_minor": 5
}
